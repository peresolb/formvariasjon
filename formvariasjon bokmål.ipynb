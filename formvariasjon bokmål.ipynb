{
 "cells": [
  {
   "cell_type": "markdown",
   "metadata": {},
   "source": [
    "# Formvariasjon i bokmål"
   ]
  },
  {
   "cell_type": "markdown",
   "metadata": {},
   "source": [
    "## Last inn fullformsordliste"
   ]
  },
  {
   "cell_type": "code",
   "execution_count": 6,
   "metadata": {},
   "outputs": [],
   "source": [
    "import pandas as pd\n",
    "from rich import print"
   ]
  },
  {
   "cell_type": "code",
   "execution_count": 7,
   "metadata": {},
   "outputs": [],
   "source": [
    "df = pd.read_csv('fullformsliste.txt', sep='\\t')"
   ]
  },
  {
   "cell_type": "markdown",
   "metadata": {},
   "source": [
    "## Legg til POS-kolonne"
   ]
  },
  {
   "cell_type": "code",
   "execution_count": 8,
   "metadata": {},
   "outputs": [],
   "source": [
    "df['POS'] = df['TAG'].apply(lambda x:x.split(' ')[0])"
   ]
  },
  {
   "cell_type": "code",
   "execution_count": 9,
   "metadata": {},
   "outputs": [],
   "source": [
    "df = df.drop_duplicates(subset=['OPPSLAG', 'LEMMA_ID', 'TAG'])"
   ]
  },
  {
   "cell_type": "markdown",
   "metadata": {},
   "source": [
    "## Finn antall ord per ordklasse"
   ]
  },
  {
   "cell_type": "code",
   "execution_count": 10,
   "metadata": {},
   "outputs": [],
   "source": [
    "pos_df = df.groupby(['POS'])['OPPSLAG'].count().reset_index()\n",
    "pos_df.columns = ['pos', 'antall']"
   ]
  },
  {
   "cell_type": "markdown",
   "metadata": {},
   "source": [
    "## Regn ut gjennomsnittlig antall alternative former per ordklasse\n",
    "Grupper datarammen på LEMMA_ID, 'TAG', og 'POS' og tell antall oppslag. Det gir (om jeg har tenkt riktig) antallet former som har samme lemma, ordklasse og morfologiske trekk. Grupper så dette på ordklasse og regn ut gjennomsnittet. Det gir gjennomsnittlig antall alternative former per ordklasse. Legg til antall ord totalt per ordklasse og skriv ut ordklassene med mer enn 200 ord totalt. Jeg er litt usikker på om jeg har tenkt riktig her, så logikken bør sjekkes. "
   ]
  },
  {
   "cell_type": "code",
   "execution_count": 11,
   "metadata": {},
   "outputs": [
    {
     "data": {
      "text/html": [
       "<div>\n",
       "<style scoped>\n",
       "    .dataframe tbody tr th:only-of-type {\n",
       "        vertical-align: middle;\n",
       "    }\n",
       "\n",
       "    .dataframe tbody tr th {\n",
       "        vertical-align: top;\n",
       "    }\n",
       "\n",
       "    .dataframe thead th {\n",
       "        text-align: right;\n",
       "    }\n",
       "</style>\n",
       "<table border=\"1\" class=\"dataframe\">\n",
       "  <thead>\n",
       "    <tr style=\"text-align: right;\">\n",
       "      <th></th>\n",
       "      <th>pos</th>\n",
       "      <th>gjennomsnitt</th>\n",
       "      <th>antall</th>\n",
       "    </tr>\n",
       "  </thead>\n",
       "  <tbody>\n",
       "    <tr>\n",
       "      <th>1</th>\n",
       "      <td>adj</td>\n",
       "      <td>1.254020</td>\n",
       "      <td>158483</td>\n",
       "    </tr>\n",
       "    <tr>\n",
       "      <th>67</th>\n",
       "      <td>verb</td>\n",
       "      <td>1.221570</td>\n",
       "      <td>61379</td>\n",
       "    </tr>\n",
       "    <tr>\n",
       "      <th>57</th>\n",
       "      <td>subst</td>\n",
       "      <td>1.075158</td>\n",
       "      <td>624295</td>\n",
       "    </tr>\n",
       "    <tr>\n",
       "      <th>22</th>\n",
       "      <td>fork</td>\n",
       "      <td>1.026777</td>\n",
       "      <td>997</td>\n",
       "    </tr>\n",
       "    <tr>\n",
       "      <th>16</th>\n",
       "      <td>det</td>\n",
       "      <td>1.019157</td>\n",
       "      <td>266</td>\n",
       "    </tr>\n",
       "    <tr>\n",
       "      <th>9</th>\n",
       "      <td>adv</td>\n",
       "      <td>1.001657</td>\n",
       "      <td>1209</td>\n",
       "    </tr>\n",
       "    <tr>\n",
       "      <th>28</th>\n",
       "      <td>interj</td>\n",
       "      <td>1.000000</td>\n",
       "      <td>280</td>\n",
       "    </tr>\n",
       "    <tr>\n",
       "      <th>32</th>\n",
       "      <td>pref</td>\n",
       "      <td>1.000000</td>\n",
       "      <td>238</td>\n",
       "    </tr>\n",
       "    <tr>\n",
       "      <th>33</th>\n",
       "      <td>prep</td>\n",
       "      <td>1.000000</td>\n",
       "      <td>282</td>\n",
       "    </tr>\n",
       "    <tr>\n",
       "      <th>66</th>\n",
       "      <td>symb</td>\n",
       "      <td>1.000000</td>\n",
       "      <td>366</td>\n",
       "    </tr>\n",
       "  </tbody>\n",
       "</table>\n",
       "</div>"
      ],
      "text/plain": [
       "       pos  gjennomsnitt  antall\n",
       "1      adj      1.254020  158483\n",
       "67    verb      1.221570   61379\n",
       "57   subst      1.075158  624295\n",
       "22    fork      1.026777     997\n",
       "16     det      1.019157     266\n",
       "9      adv      1.001657    1209\n",
       "28  interj      1.000000     280\n",
       "32    pref      1.000000     238\n",
       "33    prep      1.000000     282\n",
       "66    symb      1.000000     366"
      ]
     },
     "execution_count": 11,
     "metadata": {},
     "output_type": "execute_result"
    }
   ],
   "source": [
    "stats = df.groupby(['LEMMA_ID', 'TAG', 'POS'])['OPPSLAG'].count().groupby(['POS']).mean()\n",
    "stats = stats.reset_index()\n",
    "stats.columns = ['pos', 'gjennomsnitt']\n",
    "stats = pd.merge(stats, pos_df, on='pos')\n",
    "stats[stats.antall > 200].sort_values('gjennomsnitt', ascending=False)"
   ]
  },
  {
   "cell_type": "code",
   "execution_count": null,
   "metadata": {},
   "outputs": [],
   "source": []
  }
 ],
 "metadata": {
  "kernelspec": {
   "display_name": "Python 3",
   "language": "python",
   "name": "python3"
  },
  "language_info": {
   "codemirror_mode": {
    "name": "ipython",
    "version": 3
   },
   "file_extension": ".py",
   "mimetype": "text/x-python",
   "name": "python",
   "nbconvert_exporter": "python",
   "pygments_lexer": "ipython3",
   "version": "3.8.10"
  }
 },
 "nbformat": 4,
 "nbformat_minor": 4
}
