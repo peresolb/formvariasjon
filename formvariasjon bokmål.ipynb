{
 "cells": [
  {
   "cell_type": "markdown",
   "metadata": {},
   "source": [
    "# Formvariasjon i bokmål"
   ]
  },
  {
   "cell_type": "markdown",
   "metadata": {},
   "source": [
    "## Last inn fullformsordliste"
   ]
  },
  {
   "cell_type": "code",
   "execution_count": 1,
   "metadata": {},
   "outputs": [],
   "source": [
    "import pandas as pd\n",
    "from rich import print"
   ]
  },
  {
   "cell_type": "code",
   "execution_count": 2,
   "metadata": {},
   "outputs": [],
   "source": [
    "df = pd.read_csv('fullformsliste.txt', sep='\\t')"
   ]
  },
  {
   "cell_type": "markdown",
   "metadata": {},
   "source": [
    "## Legg til POS-kolonne"
   ]
  },
  {
   "cell_type": "code",
   "execution_count": 3,
   "metadata": {},
   "outputs": [],
   "source": [
    "df['POS'] = df['TAG'].apply(lambda x:x.split(' ')[0])"
   ]
  },
  {
   "cell_type": "code",
   "execution_count": 4,
   "metadata": {},
   "outputs": [],
   "source": [
    "df = df.drop_duplicates(subset=['OPPSLAG', 'LEMMA_ID', 'TAG'])"
   ]
  },
  {
   "cell_type": "markdown",
   "metadata": {},
   "source": [
    "## Finn antall ord per ordklasse"
   ]
  },
  {
   "cell_type": "code",
   "execution_count": 5,
   "metadata": {},
   "outputs": [],
   "source": [
    "pos_df = df.groupby(['POS'])['OPPSLAG'].count().reset_index()\n",
    "pos_df.columns = ['pos', 'antall']"
   ]
  },
  {
   "cell_type": "raw",
   "metadata": {},
   "source": [
    "## Regn ut gjennomsnittlig antall alternative former per ordklasse\n",
    "Grupper datarammen på LEMMA_ID, 'TAG', og 'POS' og tell antall oppslag. Det gir antallet former som har samme lemma, ordklasse og morfologiske trekk. Grupper så dette på ordklasse og regn ut gjennomsnittet. Det gir gjennomsnittlig antall alternative former per ordklasse. Legg til antall ord totalt per ordklasse og skriv ut ordklassene med mer enn 200 ord totalt. Logikken bør dobbeltsjekkes før tallene brukes."
   ]
  },
  {
   "cell_type": "code",
   "execution_count": 6,
   "metadata": {},
   "outputs": [
    {
     "data": {
      "text/html": [
       "<pre style=\"white-space:pre;overflow-x:auto;line-height:normal;font-family:Menlo,'DejaVu Sans Mono',consolas,'Courier New',monospace\">       pos  gjennomsnitt  antall\n",
       "<span style=\"color: #008080; text-decoration-color: #008080; font-weight: bold\">1</span>      adj      <span style=\"color: #008080; text-decoration-color: #008080; font-weight: bold\">1.254020</span>  <span style=\"color: #008080; text-decoration-color: #008080; font-weight: bold\">158483</span>\n",
       "<span style=\"color: #008080; text-decoration-color: #008080; font-weight: bold\">67</span>    verb      <span style=\"color: #008080; text-decoration-color: #008080; font-weight: bold\">1.221570</span>   <span style=\"color: #008080; text-decoration-color: #008080; font-weight: bold\">61379</span>\n",
       "<span style=\"color: #008080; text-decoration-color: #008080; font-weight: bold\">57</span>   subst      <span style=\"color: #008080; text-decoration-color: #008080; font-weight: bold\">1.075158</span>  <span style=\"color: #008080; text-decoration-color: #008080; font-weight: bold\">624295</span>\n",
       "<span style=\"color: #008080; text-decoration-color: #008080; font-weight: bold\">22</span>    fork      <span style=\"color: #008080; text-decoration-color: #008080; font-weight: bold\">1.026777</span>     <span style=\"color: #008080; text-decoration-color: #008080; font-weight: bold\">997</span>\n",
       "<span style=\"color: #008080; text-decoration-color: #008080; font-weight: bold\">16</span>     det      <span style=\"color: #008080; text-decoration-color: #008080; font-weight: bold\">1.019157</span>     <span style=\"color: #008080; text-decoration-color: #008080; font-weight: bold\">266</span>\n",
       "<span style=\"color: #008080; text-decoration-color: #008080; font-weight: bold\">9</span>      adv      <span style=\"color: #008080; text-decoration-color: #008080; font-weight: bold\">1.001657</span>    <span style=\"color: #008080; text-decoration-color: #008080; font-weight: bold\">1209</span>\n",
       "<span style=\"color: #008080; text-decoration-color: #008080; font-weight: bold\">28</span>  interj      <span style=\"color: #008080; text-decoration-color: #008080; font-weight: bold\">1.000000</span>     <span style=\"color: #008080; text-decoration-color: #008080; font-weight: bold\">280</span>\n",
       "<span style=\"color: #008080; text-decoration-color: #008080; font-weight: bold\">32</span>    pref      <span style=\"color: #008080; text-decoration-color: #008080; font-weight: bold\">1.000000</span>     <span style=\"color: #008080; text-decoration-color: #008080; font-weight: bold\">238</span>\n",
       "<span style=\"color: #008080; text-decoration-color: #008080; font-weight: bold\">33</span>    prep      <span style=\"color: #008080; text-decoration-color: #008080; font-weight: bold\">1.000000</span>     <span style=\"color: #008080; text-decoration-color: #008080; font-weight: bold\">282</span>\n",
       "<span style=\"color: #008080; text-decoration-color: #008080; font-weight: bold\">66</span>    symb      <span style=\"color: #008080; text-decoration-color: #008080; font-weight: bold\">1.000000</span>     <span style=\"color: #008080; text-decoration-color: #008080; font-weight: bold\">366</span>\n",
       "</pre>\n"
      ],
      "text/plain": [
       "       pos  gjennomsnitt  antall\n",
       "\u001b[1;36m1\u001b[0m      adj      \u001b[1;36m1.254020\u001b[0m  \u001b[1;36m158483\u001b[0m\n",
       "\u001b[1;36m67\u001b[0m    verb      \u001b[1;36m1.221570\u001b[0m   \u001b[1;36m61379\u001b[0m\n",
       "\u001b[1;36m57\u001b[0m   subst      \u001b[1;36m1.075158\u001b[0m  \u001b[1;36m624295\u001b[0m\n",
       "\u001b[1;36m22\u001b[0m    fork      \u001b[1;36m1.026777\u001b[0m     \u001b[1;36m997\u001b[0m\n",
       "\u001b[1;36m16\u001b[0m     det      \u001b[1;36m1.019157\u001b[0m     \u001b[1;36m266\u001b[0m\n",
       "\u001b[1;36m9\u001b[0m      adv      \u001b[1;36m1.001657\u001b[0m    \u001b[1;36m1209\u001b[0m\n",
       "\u001b[1;36m28\u001b[0m  interj      \u001b[1;36m1.000000\u001b[0m     \u001b[1;36m280\u001b[0m\n",
       "\u001b[1;36m32\u001b[0m    pref      \u001b[1;36m1.000000\u001b[0m     \u001b[1;36m238\u001b[0m\n",
       "\u001b[1;36m33\u001b[0m    prep      \u001b[1;36m1.000000\u001b[0m     \u001b[1;36m282\u001b[0m\n",
       "\u001b[1;36m66\u001b[0m    symb      \u001b[1;36m1.000000\u001b[0m     \u001b[1;36m366\u001b[0m\n"
      ]
     },
     "metadata": {},
     "output_type": "display_data"
    }
   ],
   "source": [
    "stats = df.groupby(['LEMMA_ID', 'TAG', 'POS'])['OPPSLAG'].count().groupby(['POS']).mean()\n",
    "stats = stats.reset_index()\n",
    "stats.columns = ['pos', 'gjennomsnitt']\n",
    "stats = pd.merge(stats, pos_df, on='pos')\n",
    "print(stats[stats.antall > 200].sort_values('gjennomsnitt', ascending=False))"
   ]
  },
  {
   "cell_type": "code",
   "execution_count": null,
   "metadata": {},
   "outputs": [],
   "source": []
  }
 ],
 "metadata": {
  "kernelspec": {
   "display_name": "Python 3",
   "language": "python",
   "name": "python3"
  },
  "language_info": {
   "codemirror_mode": {
    "name": "ipython",
    "version": 3
   },
   "file_extension": ".py",
   "mimetype": "text/x-python",
   "name": "python",
   "nbconvert_exporter": "python",
   "pygments_lexer": "ipython3",
   "version": "3.8.10"
  }
 },
 "nbformat": 4,
 "nbformat_minor": 4
}
