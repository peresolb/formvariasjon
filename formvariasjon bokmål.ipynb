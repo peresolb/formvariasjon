{
 "cells": [
  {
   "cell_type": "markdown",
   "metadata": {},
   "source": [
    "# Formvariasjon i bokmål"
   ]
  },
  {
   "cell_type": "markdown",
   "metadata": {},
   "source": [
    "## Last inn fullformsordliste"
   ]
  },
  {
   "cell_type": "code",
   "execution_count": 61,
   "metadata": {},
   "outputs": [],
   "source": [
    "import pandas as pd\n",
    "from rich import print"
   ]
  },
  {
   "cell_type": "code",
   "execution_count": 62,
   "metadata": {},
   "outputs": [],
   "source": [
    "df = pd.read_csv('fullformsliste.txt', sep='\\t')"
   ]
  },
  {
   "cell_type": "markdown",
   "metadata": {},
   "source": [
    "## Legg til POS-kolonne"
   ]
  },
  {
   "cell_type": "code",
   "execution_count": 63,
   "metadata": {},
   "outputs": [],
   "source": [
    "df['POS'] = df['TAG'].apply(lambda x:x.split(' ')[0])"
   ]
  },
  {
   "cell_type": "code",
   "execution_count": 64,
   "metadata": {},
   "outputs": [],
   "source": [
    "df = df.drop_duplicates(subset=['OPPSLAG', 'LEMMA_ID'])"
   ]
  },
  {
   "cell_type": "markdown",
   "metadata": {},
   "source": [
    "## Finn antall ord per ordklasse"
   ]
  },
  {
   "cell_type": "code",
   "execution_count": 65,
   "metadata": {},
   "outputs": [],
   "source": [
    "pos_df = df.groupby(['POS'])['OPPSLAG'].count().reset_index()\n",
    "pos_df.columns = ['pos', 'antall']"
   ]
  },
  {
   "cell_type": "markdown",
   "metadata": {},
   "source": [
    "## Regn ut gjennomsnittlig antall alternative former per ordklasse\n",
    "Grupper datarammen på LEMMA_ID, 'TAG', og 'POS' og tell antall oppslag. Det gir (om jeg har tenkt riktig) antallet former som har samme lemma, ordklasse og morfologiske trekk. Grupper så dette på ordklasse og regn ut gjennomsnittet. Det gir gjennomsnittlig antall alternative former per ordklasse. Legg til antall ord totalt per ordklasse og skriv ut ordklassene med mer enn 200 ord totalt. Jeg er litt usikker på om jeg har tenkt riktig her, så logikken bør sjekkes. "
   ]
  },
  {
   "cell_type": "code",
   "execution_count": 66,
   "metadata": {},
   "outputs": [
    {
     "data": {
      "text/html": [
       "<div>\n",
       "<style scoped>\n",
       "    .dataframe tbody tr th:only-of-type {\n",
       "        vertical-align: middle;\n",
       "    }\n",
       "\n",
       "    .dataframe tbody tr th {\n",
       "        vertical-align: top;\n",
       "    }\n",
       "\n",
       "    .dataframe thead th {\n",
       "        text-align: right;\n",
       "    }\n",
       "</style>\n",
       "<table border=\"1\" class=\"dataframe\">\n",
       "  <thead>\n",
       "    <tr style=\"text-align: right;\">\n",
       "      <th></th>\n",
       "      <th>pos</th>\n",
       "      <th>gjennomsnitt</th>\n",
       "      <th>antall</th>\n",
       "    </tr>\n",
       "  </thead>\n",
       "  <tbody>\n",
       "    <tr>\n",
       "      <th>53</th>\n",
       "      <td>subst</td>\n",
       "      <td>1.077132</td>\n",
       "      <td>502986</td>\n",
       "    </tr>\n",
       "    <tr>\n",
       "      <th>1</th>\n",
       "      <td>adj</td>\n",
       "      <td>1.069756</td>\n",
       "      <td>77461</td>\n",
       "    </tr>\n",
       "    <tr>\n",
       "      <th>63</th>\n",
       "      <td>verb</td>\n",
       "      <td>1.032804</td>\n",
       "      <td>40741</td>\n",
       "    </tr>\n",
       "    <tr>\n",
       "      <th>21</th>\n",
       "      <td>fork</td>\n",
       "      <td>1.029795</td>\n",
       "      <td>553</td>\n",
       "    </tr>\n",
       "    <tr>\n",
       "      <th>15</th>\n",
       "      <td>det</td>\n",
       "      <td>1.008475</td>\n",
       "      <td>238</td>\n",
       "    </tr>\n",
       "    <tr>\n",
       "      <th>8</th>\n",
       "      <td>adv</td>\n",
       "      <td>1.001682</td>\n",
       "      <td>1191</td>\n",
       "    </tr>\n",
       "    <tr>\n",
       "      <th>26</th>\n",
       "      <td>interj</td>\n",
       "      <td>1.000000</td>\n",
       "      <td>279</td>\n",
       "    </tr>\n",
       "    <tr>\n",
       "      <th>30</th>\n",
       "      <td>pref</td>\n",
       "      <td>1.000000</td>\n",
       "      <td>237</td>\n",
       "    </tr>\n",
       "    <tr>\n",
       "      <th>31</th>\n",
       "      <td>prep</td>\n",
       "      <td>1.000000</td>\n",
       "      <td>280</td>\n",
       "    </tr>\n",
       "    <tr>\n",
       "      <th>62</th>\n",
       "      <td>symb</td>\n",
       "      <td>1.000000</td>\n",
       "      <td>215</td>\n",
       "    </tr>\n",
       "  </tbody>\n",
       "</table>\n",
       "</div>"
      ],
      "text/plain": [
       "       pos  gjennomsnitt  antall\n",
       "53   subst      1.077132  502986\n",
       "1      adj      1.069756   77461\n",
       "63    verb      1.032804   40741\n",
       "21    fork      1.029795     553\n",
       "15     det      1.008475     238\n",
       "8      adv      1.001682    1191\n",
       "26  interj      1.000000     279\n",
       "30    pref      1.000000     237\n",
       "31    prep      1.000000     280\n",
       "62    symb      1.000000     215"
      ]
     },
     "execution_count": 66,
     "metadata": {},
     "output_type": "execute_result"
    }
   ],
   "source": [
    "stats = df.groupby(['LEMMA_ID', 'TAG', 'POS'])['OPPSLAG'].count().groupby(['POS']).mean()\n",
    "stats = stats.reset_index()\n",
    "stats.columns = ['pos', 'gjennomsnitt']\n",
    "stats = pd.merge(stats, pos_df, on='pos')\n",
    "stats[stats.antall > 200].sort_values('gjennomsnitt', ascending=False)"
   ]
  },
  {
   "cell_type": "code",
   "execution_count": null,
   "metadata": {},
   "outputs": [],
   "source": []
  }
 ],
 "metadata": {
  "kernelspec": {
   "display_name": "Python 3",
   "language": "python",
   "name": "python3"
  },
  "language_info": {
   "codemirror_mode": {
    "name": "ipython",
    "version": 3
   },
   "file_extension": ".py",
   "mimetype": "text/x-python",
   "name": "python",
   "nbconvert_exporter": "python",
   "pygments_lexer": "ipython3",
   "version": "3.8.10"
  }
 },
 "nbformat": 4,
 "nbformat_minor": 4
}
