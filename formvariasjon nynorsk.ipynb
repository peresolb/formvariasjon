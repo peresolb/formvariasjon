{
 "cells": [
  {
   "cell_type": "markdown",
   "metadata": {},
   "source": [
    "# Formvariasjon i nynorsk"
   ]
  },
  {
   "cell_type": "markdown",
   "metadata": {},
   "source": [
    "## Last inn fullformsordliste"
   ]
  },
  {
   "cell_type": "code",
   "execution_count": 1,
   "metadata": {},
   "outputs": [],
   "source": [
    "import pandas as pd\n",
    "from rich import print"
   ]
  },
  {
   "cell_type": "code",
   "execution_count": 2,
   "metadata": {},
   "outputs": [],
   "source": [
    "df = pd.read_csv('fullformer_2012.txt', sep='\\t')"
   ]
  },
  {
   "cell_type": "markdown",
   "metadata": {},
   "source": [
    "## Legg til POS-kolonne"
   ]
  },
  {
   "cell_type": "code",
   "execution_count": 3,
   "metadata": {},
   "outputs": [],
   "source": [
    "df['POS'] = df['TAG'].apply(lambda x:x.split(' ')[0])"
   ]
  },
  {
   "cell_type": "code",
   "execution_count": 4,
   "metadata": {},
   "outputs": [],
   "source": [
    "df = df.drop_duplicates(subset=['OPPSLAG', 'LEMMA_ID', 'TAG'])"
   ]
  },
  {
   "cell_type": "markdown",
   "metadata": {},
   "source": [
    "## Finn antall ord per ordklasse"
   ]
  },
  {
   "cell_type": "code",
   "execution_count": 5,
   "metadata": {},
   "outputs": [],
   "source": [
    "pos_df = df.groupby(['POS'])['OPPSLAG'].count().reset_index()\n",
    "pos_df.columns = ['pos', 'antall']"
   ]
  },
  {
   "cell_type": "markdown",
   "metadata": {},
   "source": [
    "## Regn ut gjennomsnittlig antall alternative former per ordklasse\n",
    "Grupper datarammen på LEMMA_ID, TAG, og POS og tell antall oppslag. Det gir antallet former som har samme lemma, ordklasse og morfologiske trekk. Grupper så dette på ordklasse og regn ut gjennomsnittet. Det gir gjennomsnittlig antall alternative former per ordklasse. Legg til antall ord totalt per ordklasse og skriv ut ordklassene med mer enn 200 ord totalt. Logikken bør dobbeltsjekkes før tallene brukes."
   ]
  },
  {
   "cell_type": "code",
   "execution_count": 6,
   "metadata": {},
   "outputs": [
    {
     "data": {
      "text/html": [
       "<pre style=\"white-space:pre;overflow-x:auto;line-height:normal;font-family:Menlo,'DejaVu Sans Mono',consolas,'Courier New',monospace\">       pos  gjennomsnitt  antall\n",
       "<span style=\"color: #008080; text-decoration-color: #008080; font-weight: bold\">21</span>    fork      <span style=\"color: #008080; text-decoration-color: #008080; font-weight: bold\">1.429211</span>    <span style=\"color: #008080; text-decoration-color: #008080; font-weight: bold\">1595</span>\n",
       "<span style=\"color: #008080; text-decoration-color: #008080; font-weight: bold\">66</span>    verb      <span style=\"color: #008080; text-decoration-color: #008080; font-weight: bold\">1.379939</span>   <span style=\"color: #008080; text-decoration-color: #008080; font-weight: bold\">71772</span>\n",
       "<span style=\"color: #008080; text-decoration-color: #008080; font-weight: bold\">4</span>      adj      <span style=\"color: #008080; text-decoration-color: #008080; font-weight: bold\">1.038852</span>  <span style=\"color: #008080; text-decoration-color: #008080; font-weight: bold\">132142</span>\n",
       "<span style=\"color: #008080; text-decoration-color: #008080; font-weight: bold\">64</span>    symb      <span style=\"color: #008080; text-decoration-color: #008080; font-weight: bold\">1.023904</span>     <span style=\"color: #008080; text-decoration-color: #008080; font-weight: bold\">257</span>\n",
       "<span style=\"color: #008080; text-decoration-color: #008080; font-weight: bold\">55</span>   subst      <span style=\"color: #008080; text-decoration-color: #008080; font-weight: bold\">1.019285</span>  <span style=\"color: #008080; text-decoration-color: #008080; font-weight: bold\">332132</span>\n",
       "<span style=\"color: #008080; text-decoration-color: #008080; font-weight: bold\">18</span>     det      <span style=\"color: #008080; text-decoration-color: #008080; font-weight: bold\">1.013393</span>     <span style=\"color: #008080; text-decoration-color: #008080; font-weight: bold\">227</span>\n",
       "<span style=\"color: #008080; text-decoration-color: #008080; font-weight: bold\">11</span>     adv      <span style=\"color: #008080; text-decoration-color: #008080; font-weight: bold\">1.002073</span>    <span style=\"color: #008080; text-decoration-color: #008080; font-weight: bold\">1450</span>\n",
       "<span style=\"color: #008080; text-decoration-color: #008080; font-weight: bold\">23</span>       i      <span style=\"color: #008080; text-decoration-color: #008080; font-weight: bold\">1.000000</span>     <span style=\"color: #008080; text-decoration-color: #008080; font-weight: bold\">426</span>\n",
       "<span style=\"color: #008080; text-decoration-color: #008080; font-weight: bold\">26</span>  interj      <span style=\"color: #008080; text-decoration-color: #008080; font-weight: bold\">1.000000</span>     <span style=\"color: #008080; text-decoration-color: #008080; font-weight: bold\">247</span>\n",
       "<span style=\"color: #008080; text-decoration-color: #008080; font-weight: bold\">31</span>    pref      <span style=\"color: #008080; text-decoration-color: #008080; font-weight: bold\">1.000000</span>     <span style=\"color: #008080; text-decoration-color: #008080; font-weight: bold\">248</span>\n",
       "<span style=\"color: #008080; text-decoration-color: #008080; font-weight: bold\">32</span>    prep      <span style=\"color: #008080; text-decoration-color: #008080; font-weight: bold\">1.000000</span>     <span style=\"color: #008080; text-decoration-color: #008080; font-weight: bold\">350</span>\n",
       "</pre>\n"
      ],
      "text/plain": [
       "       pos  gjennomsnitt  antall\n",
       "\u001b[1;36m21\u001b[0m    fork      \u001b[1;36m1.429211\u001b[0m    \u001b[1;36m1595\u001b[0m\n",
       "\u001b[1;36m66\u001b[0m    verb      \u001b[1;36m1.379939\u001b[0m   \u001b[1;36m71772\u001b[0m\n",
       "\u001b[1;36m4\u001b[0m      adj      \u001b[1;36m1.038852\u001b[0m  \u001b[1;36m132142\u001b[0m\n",
       "\u001b[1;36m64\u001b[0m    symb      \u001b[1;36m1.023904\u001b[0m     \u001b[1;36m257\u001b[0m\n",
       "\u001b[1;36m55\u001b[0m   subst      \u001b[1;36m1.019285\u001b[0m  \u001b[1;36m332132\u001b[0m\n",
       "\u001b[1;36m18\u001b[0m     det      \u001b[1;36m1.013393\u001b[0m     \u001b[1;36m227\u001b[0m\n",
       "\u001b[1;36m11\u001b[0m     adv      \u001b[1;36m1.002073\u001b[0m    \u001b[1;36m1450\u001b[0m\n",
       "\u001b[1;36m23\u001b[0m       i      \u001b[1;36m1.000000\u001b[0m     \u001b[1;36m426\u001b[0m\n",
       "\u001b[1;36m26\u001b[0m  interj      \u001b[1;36m1.000000\u001b[0m     \u001b[1;36m247\u001b[0m\n",
       "\u001b[1;36m31\u001b[0m    pref      \u001b[1;36m1.000000\u001b[0m     \u001b[1;36m248\u001b[0m\n",
       "\u001b[1;36m32\u001b[0m    prep      \u001b[1;36m1.000000\u001b[0m     \u001b[1;36m350\u001b[0m\n"
      ]
     },
     "metadata": {},
     "output_type": "display_data"
    }
   ],
   "source": [
    "stats = df.groupby(['LEMMA_ID', 'TAG', 'POS'])['OPPSLAG'].count().groupby(['POS']).mean()\n",
    "stats = stats.reset_index()\n",
    "stats.columns = ['pos', 'gjennomsnitt']\n",
    "stats = pd.merge(stats, pos_df, on='pos')\n",
    "print(stats[stats.antall > 200].sort_values('gjennomsnitt', ascending=False))"
   ]
  },
  {
   "cell_type": "code",
   "execution_count": null,
   "metadata": {},
   "outputs": [],
   "source": []
  }
 ],
 "metadata": {
  "kernelspec": {
   "display_name": "Python 3",
   "language": "python",
   "name": "python3"
  },
  "language_info": {
   "codemirror_mode": {
    "name": "ipython",
    "version": 3
   },
   "file_extension": ".py",
   "mimetype": "text/x-python",
   "name": "python",
   "nbconvert_exporter": "python",
   "pygments_lexer": "ipython3",
   "version": "3.8.10"
  }
 },
 "nbformat": 4,
 "nbformat_minor": 4
}
