{
 "cells": [
  {
   "cell_type": "markdown",
   "metadata": {},
   "source": [
    "# Formvariasjon i nynorsk"
   ]
  },
  {
   "cell_type": "markdown",
   "metadata": {},
   "source": [
    "## Last inn fullformsordliste"
   ]
  },
  {
   "cell_type": "code",
   "execution_count": 1,
   "metadata": {},
   "outputs": [],
   "source": [
    "import pandas as pd\n",
    "from rich import print"
   ]
  },
  {
   "cell_type": "code",
   "execution_count": 3,
   "metadata": {},
   "outputs": [],
   "source": [
    "df = pd.read_csv('fullformer_2012.txt', sep='\\t')"
   ]
  },
  {
   "cell_type": "markdown",
   "metadata": {},
   "source": [
    "## Legg til POS-kolonne"
   ]
  },
  {
   "cell_type": "code",
   "execution_count": 4,
   "metadata": {},
   "outputs": [],
   "source": [
    "df['POS'] = df['TAG'].apply(lambda x:x.split(' ')[0])"
   ]
  },
  {
   "cell_type": "code",
   "execution_count": 5,
   "metadata": {},
   "outputs": [],
   "source": [
    "df = df.drop_duplicates(subset=['OPPSLAG', 'LEMMA_ID'])"
   ]
  },
  {
   "cell_type": "markdown",
   "metadata": {},
   "source": [
    "## Finn antall ord per ordklasse"
   ]
  },
  {
   "cell_type": "code",
   "execution_count": 6,
   "metadata": {},
   "outputs": [],
   "source": [
    "pos_df = df.groupby(['POS'])['OPPSLAG'].count().reset_index()\n",
    "pos_df.columns = ['pos', 'antall']"
   ]
  },
  {
   "cell_type": "markdown",
   "metadata": {},
   "source": [
    "## Regn ut gjennomsnittlig antall alternative former per ordklasse\n",
    "Grupper datarammen på LEMMA_ID, 'TAG', og 'POS' og tell antall oppslag. Det gir (om jeg har tenkt riktig) antallet former som har samme lemma, ordklasse og morfologiske trekk. Grupper så dette på ordklasse og regn ut gjennomsnittet. Det gir gjennomsnittlig antall alternative former per ordklasse. Legg til antall ord totalt per ordklasse og skriv ut ordklassene med mer enn 200 ord totalt. Jeg er litt usikker på om jeg har tenkt riktig her, så logikken bør sjekkes. "
   ]
  },
  {
   "cell_type": "code",
   "execution_count": 7,
   "metadata": {},
   "outputs": [
    {
     "data": {
      "text/html": [
       "<div>\n",
       "<style scoped>\n",
       "    .dataframe tbody tr th:only-of-type {\n",
       "        vertical-align: middle;\n",
       "    }\n",
       "\n",
       "    .dataframe tbody tr th {\n",
       "        vertical-align: top;\n",
       "    }\n",
       "\n",
       "    .dataframe thead th {\n",
       "        text-align: right;\n",
       "    }\n",
       "</style>\n",
       "<table border=\"1\" class=\"dataframe\">\n",
       "  <thead>\n",
       "    <tr style=\"text-align: right;\">\n",
       "      <th></th>\n",
       "      <th>pos</th>\n",
       "      <th>gjennomsnitt</th>\n",
       "      <th>antall</th>\n",
       "    </tr>\n",
       "  </thead>\n",
       "  <tbody>\n",
       "    <tr>\n",
       "      <th>17</th>\n",
       "      <td>fork</td>\n",
       "      <td>1.411111</td>\n",
       "      <td>1143</td>\n",
       "    </tr>\n",
       "    <tr>\n",
       "      <th>54</th>\n",
       "      <td>verb</td>\n",
       "      <td>1.215415</td>\n",
       "      <td>44201</td>\n",
       "    </tr>\n",
       "    <tr>\n",
       "      <th>53</th>\n",
       "      <td>symb</td>\n",
       "      <td>1.021097</td>\n",
       "      <td>242</td>\n",
       "    </tr>\n",
       "    <tr>\n",
       "      <th>44</th>\n",
       "      <td>subst</td>\n",
       "      <td>1.019982</td>\n",
       "      <td>307195</td>\n",
       "    </tr>\n",
       "    <tr>\n",
       "      <th>4</th>\n",
       "      <td>adj</td>\n",
       "      <td>1.019005</td>\n",
       "      <td>74851</td>\n",
       "    </tr>\n",
       "    <tr>\n",
       "      <th>9</th>\n",
       "      <td>adv</td>\n",
       "      <td>1.001590</td>\n",
       "      <td>1260</td>\n",
       "    </tr>\n",
       "    <tr>\n",
       "      <th>18</th>\n",
       "      <td>i</td>\n",
       "      <td>1.000000</td>\n",
       "      <td>426</td>\n",
       "    </tr>\n",
       "    <tr>\n",
       "      <th>20</th>\n",
       "      <td>interj</td>\n",
       "      <td>1.000000</td>\n",
       "      <td>236</td>\n",
       "    </tr>\n",
       "    <tr>\n",
       "      <th>24</th>\n",
       "      <td>pref</td>\n",
       "      <td>1.000000</td>\n",
       "      <td>248</td>\n",
       "    </tr>\n",
       "    <tr>\n",
       "      <th>25</th>\n",
       "      <td>prep</td>\n",
       "      <td>1.000000</td>\n",
       "      <td>337</td>\n",
       "    </tr>\n",
       "  </tbody>\n",
       "</table>\n",
       "</div>"
      ],
      "text/plain": [
       "       pos  gjennomsnitt  antall\n",
       "17    fork      1.411111    1143\n",
       "54    verb      1.215415   44201\n",
       "53    symb      1.021097     242\n",
       "44   subst      1.019982  307195\n",
       "4      adj      1.019005   74851\n",
       "9      adv      1.001590    1260\n",
       "18       i      1.000000     426\n",
       "20  interj      1.000000     236\n",
       "24    pref      1.000000     248\n",
       "25    prep      1.000000     337"
      ]
     },
     "execution_count": 7,
     "metadata": {},
     "output_type": "execute_result"
    }
   ],
   "source": [
    "stats = df.groupby(['LEMMA_ID', 'TAG', 'POS'])['OPPSLAG'].count().groupby(['POS']).mean()\n",
    "stats = stats.reset_index()\n",
    "stats.columns = ['pos', 'gjennomsnitt']\n",
    "stats = pd.merge(stats, pos_df, on='pos')\n",
    "stats[stats.antall > 200].sort_values('gjennomsnitt', ascending=False)"
   ]
  }
 ],
 "metadata": {
  "kernelspec": {
   "display_name": "Python 3",
   "language": "python",
   "name": "python3"
  },
  "language_info": {
   "codemirror_mode": {
    "name": "ipython",
    "version": 3
   },
   "file_extension": ".py",
   "mimetype": "text/x-python",
   "name": "python",
   "nbconvert_exporter": "python",
   "pygments_lexer": "ipython3",
   "version": "3.8.10"
  }
 },
 "nbformat": 4,
 "nbformat_minor": 4
}
