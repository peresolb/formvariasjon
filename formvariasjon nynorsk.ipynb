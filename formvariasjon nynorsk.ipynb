{
 "cells": [
  {
   "cell_type": "markdown",
   "metadata": {},
   "source": [
    "# Formvariasjon i nynorsk"
   ]
  },
  {
   "cell_type": "markdown",
   "metadata": {},
   "source": [
    "## Last inn fullformsordliste"
   ]
  },
  {
   "cell_type": "code",
   "execution_count": 1,
   "metadata": {},
   "outputs": [],
   "source": [
    "import pandas as pd\n",
    "from rich import print"
   ]
  },
  {
   "cell_type": "code",
   "execution_count": 2,
   "metadata": {},
   "outputs": [],
   "source": [
    "df = pd.read_csv('fullformer_2012.txt', sep='\\t')"
   ]
  },
  {
   "cell_type": "markdown",
   "metadata": {},
   "source": [
    "## Legg til POS-kolonne"
   ]
  },
  {
   "cell_type": "code",
   "execution_count": 3,
   "metadata": {},
   "outputs": [],
   "source": [
    "df['POS'] = df['TAG'].apply(lambda x:x.split(' ')[0])"
   ]
  },
  {
   "cell_type": "code",
   "execution_count": 4,
   "metadata": {},
   "outputs": [],
   "source": [
    "df = df.drop_duplicates(subset=['OPPSLAG', 'LEMMA_ID', 'TAG'])"
   ]
  },
  {
   "cell_type": "markdown",
   "metadata": {},
   "source": [
    "## Finn antall ord per ordklasse"
   ]
  },
  {
   "cell_type": "code",
   "execution_count": 5,
   "metadata": {},
   "outputs": [],
   "source": [
    "pos_df = df.groupby(['POS'])['OPPSLAG'].count().reset_index()\n",
    "pos_df.columns = ['pos', 'antall']"
   ]
  },
  {
   "cell_type": "markdown",
   "metadata": {},
   "source": [
    "## Regn ut gjennomsnittlig antall alternative former per ordklasse\n",
    "Grupper datarammen på LEMMA_ID, 'TAG', og 'POS' og tell antall oppslag. Det gir (om jeg har tenkt riktig) antallet former som har samme lemma, ordklasse og morfologiske trekk. Grupper så dette på ordklasse og regn ut gjennomsnittet. Det gir gjennomsnittlig antall alternative former per ordklasse. Legg til antall ord totalt per ordklasse og skriv ut ordklassene med mer enn 200 ord totalt. Jeg er litt usikker på om jeg har tenkt riktig her, så logikken bør sjekkes. "
   ]
  },
  {
   "cell_type": "code",
   "execution_count": 6,
   "metadata": {},
   "outputs": [
    {
     "data": {
      "text/html": [
       "<div>\n",
       "<style scoped>\n",
       "    .dataframe tbody tr th:only-of-type {\n",
       "        vertical-align: middle;\n",
       "    }\n",
       "\n",
       "    .dataframe tbody tr th {\n",
       "        vertical-align: top;\n",
       "    }\n",
       "\n",
       "    .dataframe thead th {\n",
       "        text-align: right;\n",
       "    }\n",
       "</style>\n",
       "<table border=\"1\" class=\"dataframe\">\n",
       "  <thead>\n",
       "    <tr style=\"text-align: right;\">\n",
       "      <th></th>\n",
       "      <th>pos</th>\n",
       "      <th>gjennomsnitt</th>\n",
       "      <th>antall</th>\n",
       "    </tr>\n",
       "  </thead>\n",
       "  <tbody>\n",
       "    <tr>\n",
       "      <th>21</th>\n",
       "      <td>fork</td>\n",
       "      <td>1.429211</td>\n",
       "      <td>1595</td>\n",
       "    </tr>\n",
       "    <tr>\n",
       "      <th>66</th>\n",
       "      <td>verb</td>\n",
       "      <td>1.379939</td>\n",
       "      <td>71772</td>\n",
       "    </tr>\n",
       "    <tr>\n",
       "      <th>4</th>\n",
       "      <td>adj</td>\n",
       "      <td>1.038852</td>\n",
       "      <td>132142</td>\n",
       "    </tr>\n",
       "    <tr>\n",
       "      <th>64</th>\n",
       "      <td>symb</td>\n",
       "      <td>1.023904</td>\n",
       "      <td>257</td>\n",
       "    </tr>\n",
       "    <tr>\n",
       "      <th>55</th>\n",
       "      <td>subst</td>\n",
       "      <td>1.019285</td>\n",
       "      <td>332132</td>\n",
       "    </tr>\n",
       "    <tr>\n",
       "      <th>18</th>\n",
       "      <td>det</td>\n",
       "      <td>1.013393</td>\n",
       "      <td>227</td>\n",
       "    </tr>\n",
       "    <tr>\n",
       "      <th>11</th>\n",
       "      <td>adv</td>\n",
       "      <td>1.002073</td>\n",
       "      <td>1450</td>\n",
       "    </tr>\n",
       "    <tr>\n",
       "      <th>23</th>\n",
       "      <td>i</td>\n",
       "      <td>1.000000</td>\n",
       "      <td>426</td>\n",
       "    </tr>\n",
       "    <tr>\n",
       "      <th>26</th>\n",
       "      <td>interj</td>\n",
       "      <td>1.000000</td>\n",
       "      <td>247</td>\n",
       "    </tr>\n",
       "    <tr>\n",
       "      <th>31</th>\n",
       "      <td>pref</td>\n",
       "      <td>1.000000</td>\n",
       "      <td>248</td>\n",
       "    </tr>\n",
       "    <tr>\n",
       "      <th>32</th>\n",
       "      <td>prep</td>\n",
       "      <td>1.000000</td>\n",
       "      <td>350</td>\n",
       "    </tr>\n",
       "  </tbody>\n",
       "</table>\n",
       "</div>"
      ],
      "text/plain": [
       "       pos  gjennomsnitt  antall\n",
       "21    fork      1.429211    1595\n",
       "66    verb      1.379939   71772\n",
       "4      adj      1.038852  132142\n",
       "64    symb      1.023904     257\n",
       "55   subst      1.019285  332132\n",
       "18     det      1.013393     227\n",
       "11     adv      1.002073    1450\n",
       "23       i      1.000000     426\n",
       "26  interj      1.000000     247\n",
       "31    pref      1.000000     248\n",
       "32    prep      1.000000     350"
      ]
     },
     "execution_count": 6,
     "metadata": {},
     "output_type": "execute_result"
    }
   ],
   "source": [
    "stats = df.groupby(['LEMMA_ID', 'TAG', 'POS'])['OPPSLAG'].count().groupby(['POS']).mean()\n",
    "stats = stats.reset_index()\n",
    "stats.columns = ['pos', 'gjennomsnitt']\n",
    "stats = pd.merge(stats, pos_df, on='pos')\n",
    "stats[stats.antall > 200].sort_values('gjennomsnitt', ascending=False)"
   ]
  },
  {
   "cell_type": "code",
   "execution_count": null,
   "metadata": {},
   "outputs": [],
   "source": []
  }
 ],
 "metadata": {
  "kernelspec": {
   "display_name": "Python 3",
   "language": "python",
   "name": "python3"
  },
  "language_info": {
   "codemirror_mode": {
    "name": "ipython",
    "version": 3
   },
   "file_extension": ".py",
   "mimetype": "text/x-python",
   "name": "python",
   "nbconvert_exporter": "python",
   "pygments_lexer": "ipython3",
   "version": "3.8.10"
  }
 },
 "nbformat": 4,
 "nbformat_minor": 4
}
